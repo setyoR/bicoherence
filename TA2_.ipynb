{
  "nbformat": 4,
  "nbformat_minor": 0,
  "metadata": {
    "colab": {
      "name": "TA2 .ipynb",
      "provenance": [],
      "collapsed_sections": []
    },
    "kernelspec": {
      "name": "python3",
      "display_name": "Python 3"
    }
  },
  "cells": [
    {
      "cell_type": "code",
      "metadata": {
        "id": "NKrIsgRHzz3r"
      },
      "source": [
        "import numpy as np\r\n",
        "LX = 64\r\n",
        "LS = 128\r\n",
        "OV = 0,5\r\n",
        "data = np.linspace(10,30, 1024)\r\n",
        "k = 0\r\n",
        "cont = 0\r\n",
        "x = data\r\n",
        "\r\n"
      ],
      "execution_count": null,
      "outputs": []
    },
    {
      "cell_type": "code",
      "metadata": {
        "colab": {
          "base_uri": "https://localhost:8080/"
        },
        "id": "6a5DBloTz0uW",
        "outputId": "8d979fe0-144e-4602-e363-24c27bacdb78"
      },
      "source": [
        "indices = []\r\n",
        "\r\n",
        "k=0\r\n",
        "while True:\r\n",
        "    indice = np.array(x[int((LX/2)*k):int((LX/2)*k + LX)])\r\n",
        "    indices = np.append(indice,indices)\r\n",
        "    #values = indices[k]\r\n",
        "    #values = np.asmatrix(values)\r\n",
        "    #values = value\r\n",
        "    #print(indices)\r\n",
        "    k = k+1\r\n",
        "    lent= (len(data)-LX/2)\r\n",
        "    if len(indices) > lent :\r\n",
        "        break\r\n",
        "print(indices)"
      ],
      "execution_count": null,
      "outputs": [
        {
          "output_type": "stream",
          "text": [
            "[19.38416422 19.40371457 19.42326491 ... 11.19257087 11.21212121\n",
            " 11.23167155]\n"
          ],
          "name": "stdout"
        }
      ]
    },
    {
      "cell_type": "code",
      "metadata": {
        "colab": {
          "base_uri": "https://localhost:8080/"
        },
        "id": "mRRc1KPRz44W",
        "outputId": "e78b1a72-c5f1-474b-d180-e83462ef116a"
      },
      "source": [
        "values = indices.reshape(k, 64)\r\n",
        "print(values)"
      ],
      "execution_count": null,
      "outputs": [
        {
          "output_type": "stream",
          "text": [
            "[[19.38416422 19.40371457 19.42326491 ... 20.57673509 20.59628543\n",
            "  20.61583578]\n",
            " [18.75855327 18.77810362 18.79765396 ... 19.95112414 19.97067449\n",
            "  19.99022483]\n",
            " [18.13294233 18.15249267 18.17204301 ... 19.3255132  19.34506354\n",
            "  19.36461388]\n",
            " ...\n",
            " [11.2512219  11.27077224 11.29032258 ... 12.44379277 12.46334311\n",
            "  12.48289345]\n",
            " [10.62561095 10.64516129 10.66471163 ... 11.81818182 11.83773216\n",
            "  11.8572825 ]\n",
            " [10.         10.01955034 10.03910068 ... 11.19257087 11.21212121\n",
            "  11.23167155]]\n"
          ],
          "name": "stdout"
        }
      ]
    },
    {
      "cell_type": "code",
      "metadata": {
        "colab": {
          "base_uri": "https://localhost:8080/"
        },
        "id": "WMFjoolL0bOE",
        "outputId": "ee60db59-c8f1-4eb5-fafb-0a706b9bf277"
      },
      "source": [
        "sz1 = values.shape[0]\r\n",
        "numseg = sz1\r\n",
        "print(numseg)"
      ],
      "execution_count": null,
      "outputs": [
        {
          "output_type": "stream",
          "text": [
            "16\n"
          ],
          "name": "stdout"
        }
      ]
    },
    {
      "cell_type": "code",
      "metadata": {
        "colab": {
          "base_uri": "https://localhost:8080/"
        },
        "id": "ZhqcoTv10dn2",
        "outputId": "4f19e9f4-88a0-4049-8c6c-c43c100adec2"
      },
      "source": [
        "x1=np.array([])\r\n",
        "x2= np.array([])\r\n",
        "o = x.shape\r\n",
        "w = np.zeros(o[0])\r\n",
        "Bsp=np.zeros((LX,LX))\r\n",
        "de1=np.zeros((LX,LX))\r\n",
        "de2=np.zeros((LX,LX))\r\n",
        "D1 = np.array([])\r\n",
        "D2 = np.array([])\r\n",
        "Bs = np.array([])\r\n",
        "for ix in range(0,numseg) :\r\n",
        "    mui = np.mean(values[ix])\r\n",
        "    a = values[ix]-mui\r\n",
        "    x1 = np.append(x1,a)\r\n",
        "    #hanning window\r\n",
        "    for k in range(0,len(x1)):\r\n",
        "        w[k]= 0.5 - 0.5*np.cos(2*np.pi*(k-1)/(LX-1))\r\n",
        "\r\n",
        "    for k in range (0,len(x1)):\r\n",
        "        abc = w[k]*x1[k]\r\n",
        "        x2 = np.append(x2,abc)\r\n",
        "    \r\n",
        "    Y= np.fft.fft(np.array(x2),LS)\r\n",
        "    for k in range(0,LX):\r\n",
        "        for l in range(0,LX):\r\n",
        "            Bsp[k,l]= Y[k]*Y[l]*np.conjugate(Y[k+l])\r\n",
        "            de1[k,l]=abs(Y[k]*Y[l])**2\r\n",
        "            de2[k,l]=abs(Y[k+l])**2\r\n",
        "    Bs=np.append(Bs,Bsp)\r\n",
        "    D1=np.append(D1,de1)\r\n",
        "    D2=np.append(D2,de2)\r\n",
        " \r\n"
      ],
      "execution_count": null,
      "outputs": [
        {
          "output_type": "stream",
          "text": [
            "/usr/local/lib/python3.7/dist-packages/ipykernel_launcher.py:26: ComplexWarning: Casting complex values to real discards the imaginary part\n"
          ],
          "name": "stderr"
        }
      ]
    },
    {
      "cell_type": "code",
      "metadata": {
        "id": "eQL-2O0-0fVQ"
      },
      "source": [
        "D1= D1.reshape(16,64,64)\r\n",
        "D2 = D2.reshape(16,64,64)\r\n",
        "Bs = Bs.reshape(16,64,64)\r\n"
      ],
      "execution_count": null,
      "outputs": []
    },
    {
      "cell_type": "code",
      "metadata": {
        "colab": {
          "base_uri": "https://localhost:8080/"
        },
        "id": "RzW5Qcz21CrR",
        "outputId": "85577998-b69b-4272-ccbb-e7e95e240d7b"
      },
      "source": [
        "D1m = D1[0]\r\n",
        "D1m.shape"
      ],
      "execution_count": null,
      "outputs": [
        {
          "output_type": "execute_result",
          "data": {
            "text/plain": [
              "(64, 64)"
            ]
          },
          "metadata": {
            "tags": []
          },
          "execution_count": 19
        }
      ]
    },
    {
      "cell_type": "code",
      "metadata": {
        "id": "Q2C8682n0hqp"
      },
      "source": [
        "#menghitung bisepectrum dan bicoherence\r\n",
        "\r\n",
        "D1m = D1[0]\r\n",
        "D2m = D2[0]\r\n",
        "Bm = Bs[0]\r\n",
        "sz2= Bs.shape[0]\r\n",
        "for k in range(0,sz2):\r\n",
        "    D1m=D1m+D1[k]\r\n",
        "    D2m=D2m+D2[k]\r\n",
        "    Bm = Bm+Bs[k]\r\n",
        "D1 = D1m/k\r\n",
        "D2 = D2m/k\r\n",
        "Bm = Bm/k\r\n",
        "#print(Bm)"
      ],
      "execution_count": null,
      "outputs": []
    },
    {
      "cell_type": "code",
      "metadata": {
        "id": "46g2hnhW0jJK"
      },
      "source": [
        "bic2 = np.zeros((LX*2,LX*2))\r\n",
        "for k in range(0,LX):\r\n",
        "    for l in range(0,LX):\r\n",
        "        bic2[k+LX,l+LX] = abs(Bm[k,l])**2 / (D1[k,l]*D2[k,l])\r\n",
        "\r\n"
      ],
      "execution_count": null,
      "outputs": []
    },
    {
      "cell_type": "code",
      "metadata": {
        "id": "eqgw3hTJ0mqg"
      },
      "source": [
        "bican = np.zeros((LX*2,LX*2))\r\n",
        "for k in range(0,LX*2):\r\n",
        "    for l in range(0,LX*2):\r\n",
        "        if (k<=LX) and (l<=LX):\r\n",
        "            bican[k,l] = bic2[(2*LX-k-1),(2*LX-l-1)]\r\n",
        "        elif (k>LX) and (l<=LX):\r\n",
        "            bican[k,l]=bic2[k,2*LX-l-1]\r\n",
        "\r\n",
        "        elif (k<=LX) and (l>LX):\r\n",
        "            bican[k,l]=bic2[2*LX-k-1,l]\r\n",
        "            \r\n",
        "        elif (k<LX) and (l>bic2[k,l]):\r\n",
        "            bican[k,l] = bic2[k,l]\r\n",
        "        "
      ],
      "execution_count": null,
      "outputs": []
    },
    {
      "cell_type": "code",
      "metadata": {
        "colab": {
          "base_uri": "https://localhost:8080/"
        },
        "id": "Fo2bV5ud1MZ-",
        "outputId": "d66c0f34-916b-482b-f597-db1371df0bc2"
      },
      "source": [
        "print(bican)"
      ],
      "execution_count": null,
      "outputs": [
        {
          "output_type": "stream",
          "text": [
            "[[8.56794122e-07 9.97430755e-01 6.72811179e-04 ... 6.72811179e-04\n",
            "  9.97430755e-01 8.56794122e-07]\n",
            " [9.97430755e-01 8.75806837e-03 9.96660129e-01 ... 9.96660129e-01\n",
            "  8.75806837e-03 9.97430755e-01]\n",
            " [6.72811179e-04 9.96660129e-01 1.54595877e-03 ... 1.54595877e-03\n",
            "  9.96660129e-01 6.72811179e-04]\n",
            " ...\n",
            " [6.72811179e-04 9.96660129e-01 1.54595877e-03 ... 0.00000000e+00\n",
            "  0.00000000e+00 0.00000000e+00]\n",
            " [9.97430755e-01 8.75806837e-03 9.96660129e-01 ... 0.00000000e+00\n",
            "  0.00000000e+00 0.00000000e+00]\n",
            " [8.56794122e-07 9.97430755e-01 6.72811179e-04 ... 0.00000000e+00\n",
            "  0.00000000e+00 0.00000000e+00]]\n"
          ],
          "name": "stdout"
        }
      ]
    },
    {
      "cell_type": "code",
      "metadata": {
        "colab": {
          "base_uri": "https://localhost:8080/"
        },
        "id": "6VB1HF9T1N7L",
        "outputId": "e9baac11-cc3c-44c3-ee8e-3a45c9cff78c"
      },
      "source": [
        "#mengambil nilai bican yang berelemen 0\r\n",
        "bicanpl = bican\r\n",
        "bican1=bican[LX:int(LX+LS/2),LX:int(LX+LS/2)]\r\n",
        "sz0=bican1.shape\r\n",
        "print(bican1)\r\n"
      ],
      "execution_count": null,
      "outputs": [
        {
          "output_type": "stream",
          "text": [
            "[[0. 0. 0. ... 0. 0. 0.]\n",
            " [0. 0. 0. ... 0. 0. 0.]\n",
            " [0. 0. 0. ... 0. 0. 0.]\n",
            " ...\n",
            " [0. 0. 0. ... 0. 0. 0.]\n",
            " [0. 0. 0. ... 0. 0. 0.]\n",
            " [0. 0. 0. ... 0. 0. 0.]]\n"
          ],
          "name": "stdout"
        }
      ]
    },
    {
      "cell_type": "code",
      "metadata": {
        "id": "96mHg-NW1Sdo"
      },
      "source": [
        "waxis = np.linspace(0,0.5,sz[1]+1)\r\n",
        "waxis = waxis[:-2]\r\n",
        "\r\n",
        "limit =waxis[-1]*(2/3)\r\n"
      ],
      "execution_count": null,
      "outputs": []
    },
    {
      "cell_type": "code",
      "metadata": {
        "id": "CoqSpuVp1Utu"
      },
      "source": [
        "k = 0\r\n",
        "while k<len(waxis):\r\n",
        "    if waxis[k] > limit :\r\n",
        "        limit = k-1\r\n",
        "        k=float('inf')\r\n",
        "    else :\r\n",
        "        k = k+1\r\n",
        "        "
      ],
      "execution_count": null,
      "outputs": []
    },
    {
      "cell_type": "code",
      "metadata": {
        "id": "WEPiccrg1WFz"
      },
      "source": [
        "for f1 in range(0,limit):\r\n",
        "    for f2 in range(0,len(waxis)):\r\n",
        "        if f2 == 0 or f2>= f1:\r\n",
        "            bican[f1,f2] = 0\r\n",
        "          "
      ],
      "execution_count": null,
      "outputs": []
    },
    {
      "cell_type": "code",
      "metadata": {
        "colab": {
          "base_uri": "https://localhost:8080/"
        },
        "id": "WZ9FRksj1XvZ",
        "outputId": "c7da4be7-bf78-4318-8a70-ea2cdfc4ba26"
      },
      "source": [
        "print(bican)"
      ],
      "execution_count": null,
      "outputs": [
        {
          "output_type": "stream",
          "text": [
            "[[0.00000000e+00 0.00000000e+00 0.00000000e+00 ... 6.72811179e-04\n",
            "  9.97430755e-01 8.56794122e-07]\n",
            " [0.00000000e+00 0.00000000e+00 0.00000000e+00 ... 9.96660129e-01\n",
            "  8.75806837e-03 9.97430755e-01]\n",
            " [0.00000000e+00 9.96660129e-01 0.00000000e+00 ... 1.54595877e-03\n",
            "  9.96660129e-01 6.72811179e-04]\n",
            " ...\n",
            " [6.72811179e-04 9.96660129e-01 1.54595877e-03 ... 0.00000000e+00\n",
            "  0.00000000e+00 0.00000000e+00]\n",
            " [9.97430755e-01 8.75806837e-03 9.96660129e-01 ... 0.00000000e+00\n",
            "  0.00000000e+00 0.00000000e+00]\n",
            " [8.56794122e-07 9.97430755e-01 6.72811179e-04 ... 0.00000000e+00\n",
            "  0.00000000e+00 0.00000000e+00]]\n"
          ],
          "name": "stdout"
        }
      ]
    },
    {
      "cell_type": "code",
      "metadata": {
        "colab": {
          "base_uri": "https://localhost:8080/"
        },
        "id": "XI7WUOC41ZLt",
        "outputId": "3a595f07-356f-4ba2-d1e9-4975d9b2e779"
      },
      "source": [
        "bican[1,2]"
      ],
      "execution_count": null,
      "outputs": [
        {
          "output_type": "execute_result",
          "data": {
            "text/plain": [
              "0.0"
            ]
          },
          "metadata": {
            "tags": []
          },
          "execution_count": 35
        }
      ]
    },
    {
      "cell_type": "code",
      "metadata": {
        "id": "UQae_dwj1bYq"
      },
      "source": [
        "bicpermed = np.array([])\r\n",
        "cont = 0\r\n",
        "for f1 in range(0,len(waxis)):\r\n",
        "    for f2 in range(0, min([f1, -2*f1+len(Y)])):\r\n",
        "        bicp =  bican[f1,f2]\r\n",
        "        cont = cont +1\r\n",
        "        bicpermed=np.append(bicpermed,bicp)\r\n",
        "        \r\n"
      ],
      "execution_count": null,
      "outputs": []
    },
    {
      "cell_type": "code",
      "metadata": {
        "colab": {
          "base_uri": "https://localhost:8080/"
        },
        "id": "Jsi2yl661nXH",
        "outputId": "b05576ed-687e-4edf-db29-30bd3e4ee142"
      },
      "source": [
        "print(bicpermed)\r\n",
        "len(bicpermed)"
      ],
      "execution_count": null,
      "outputs": [
        {
          "output_type": "stream",
          "text": [
            "[0.         0.         0.99666013 ... 0.9806081  0.0320039  0.9728685 ]\n"
          ],
          "name": "stdout"
        },
        {
          "output_type": "execute_result",
          "data": {
            "text/plain": [
              "1363"
            ]
          },
          "metadata": {
            "tags": []
          },
          "execution_count": 38
        }
      ]
    },
    {
      "cell_type": "code",
      "metadata": {
        "colab": {
          "base_uri": "https://localhost:8080/"
        },
        "id": "8E5waoaG1pEy",
        "outputId": "a79ea892-4970-430a-f062-666c42462b01"
      },
      "source": [
        "bic2m = np.mean(bicpermed)\r\n",
        "bic2v=np.std(bicpermed)\r\n",
        "bic2max = max(bicpermed)\r\n",
        "print(bic2m)"
      ],
      "execution_count": null,
      "outputs": [
        {
          "output_type": "stream",
          "text": [
            "0.478482267261243\n"
          ],
          "name": "stdout"
        }
      ]
    },
    {
      "cell_type": "code",
      "metadata": {
        "colab": {
          "base_uri": "https://localhost:8080/"
        },
        "id": "6_eJ1Nz01uA-",
        "outputId": "461aaa95-ca1a-4e54-f533-76a44290febb"
      },
      "source": [
        "#NILAI KETIDAKLINEARAN\r\n",
        "NLI = abs(bic2max-(bic2m+(2*bic2v)))\r\n",
        "print(NLI)"
      ],
      "execution_count": null,
      "outputs": [
        {
          "output_type": "stream",
          "text": [
            "0.2450193763527575\n"
          ],
          "name": "stdout"
        }
      ]
    },
    {
      "cell_type": "code",
      "metadata": {
        "id": "Cq7g4lY61wbA"
      },
      "source": [
        "size,size2 = bican.shape"
      ],
      "execution_count": null,
      "outputs": []
    },
    {
      "cell_type": "code",
      "metadata": {
        "colab": {
          "base_uri": "https://localhost:8080/"
        },
        "id": "sGRih2a92Mh5",
        "outputId": "db239957-d88c-4965-e13d-edd682d531f7"
      },
      "source": [
        "b = np.transpose(bican)\r\n",
        "rows = []\r\n",
        "for ix in range(0,size):\r\n",
        "    c = np.max(bican[ix])\r\n",
        "    rows = np.append(rows,c)\r\n",
        "\r\n"
      ],
      "execution_count": null,
      "outputs": [
        {
          "output_type": "execute_result",
          "data": {
            "text/plain": [
              "0.9988903690381101"
            ]
          },
          "metadata": {
            "tags": []
          },
          "execution_count": 68
        }
      ]
    },
    {
      "cell_type": "code",
      "metadata": {
        "colab": {
          "base_uri": "https://localhost:8080/"
        },
        "id": "jHAcCXF15XP9",
        "outputId": "c93614e4-9f39-4ab9-a2a4-711168420005"
      },
      "source": [
        "f1 = rows[0]\r\n",
        "f2 = rows[1]\r\n",
        "print(f1)\r\n",
        "print(f2)"
      ],
      "execution_count": null,
      "outputs": [
        {
          "output_type": "stream",
          "text": [
            "0.9999999999999998\n",
            "0.9988903690381101\n"
          ],
          "name": "stdout"
        }
      ]
    },
    {
      "cell_type": "code",
      "metadata": {
        "colab": {
          "base_uri": "https://localhost:8080/"
        },
        "id": "a8C_VGHE5fGV",
        "outputId": "13e65838-38b6-4e75-eba7-acb47a60ebac"
      },
      "source": [
        "#Mengitung NGI\r\n",
        "al = 0.01\r\n",
        "chi = 9.2\r\n",
        "chi2 = chi/(2*LX)\r\n",
        "\r\n",
        "xi,xii = np.where(bican[:]>chi2)\r\n",
        "b=xi+xii\r\n",
        "c=sum(b)\r\n",
        "n=len(xi)\r\n",
        "biccrit = (1/(4*LX*n))*((chi+np.sqrt((4*n)-1))**2)\r\n",
        "NGI = bic2m-biccrit\r\n",
        "print(NGI)"
      ],
      "execution_count": null,
      "outputs": [
        {
          "output_type": "stream",
          "text": [
            "0.4609498254462119\n"
          ],
          "name": "stdout"
        }
      ]
    },
    {
      "cell_type": "code",
      "metadata": {
        "id": "KkPFLnJlO7aq"
      },
      "source": [
        "import matplotlib.pyplot as plt"
      ],
      "execution_count": null,
      "outputs": []
    },
    {
      "cell_type": "code",
      "metadata": {
        "id": "lXANaC-YQkrH"
      },
      "source": [
        ""
      ],
      "execution_count": null,
      "outputs": []
    }
  ]
}